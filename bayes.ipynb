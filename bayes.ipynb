{
  "nbformat": 4,
  "nbformat_minor": 0,
  "metadata": {
    "colab": {
      "name": "bayes.ipynb",
      "version": "0.3.2",
      "provenance": [],
      "include_colab_link": true
    },
    "kernelspec": {
      "name": "python3",
      "display_name": "Python 3"
    }
  },
  "cells": [
    {
      "cell_type": "markdown",
      "metadata": {
        "id": "view-in-github",
        "colab_type": "text"
      },
      "source": [
        "<a href=\"https://colab.research.google.com/github/mathengine/statistics/blob/master/bayes.ipynb\" target=\"_parent\"><img src=\"https://colab.research.google.com/assets/colab-badge.svg\" alt=\"Open In Colab\"/></a>"
      ]
    },
    {
      "metadata": {
        "id": "2CAVjB89OTgG",
        "colab_type": "text"
      },
      "cell_type": "markdown",
      "source": [
        "# Bayes formula\n",
        "\n",
        "$\\theta$ : parameters\n",
        "\n",
        "$X$ : observations\n",
        "\n",
        "$$\n",
        "P({\\theta}|X) = \\frac{P(X, {\\theta})}{P(X)} = \\frac{P(X|{\\theta}).P(\\theta)}{P(X)}\n",
        "$$\n",
        "\n",
        "$P({\\theta}|X) $ : posterior\n",
        "\n",
        "$P(X) $ : evidence\n",
        "\n",
        "$P(X|{\\theta})$  : likelihood\n",
        "\n",
        "$P({\\theta}) $ : prior\n",
        "\n",
        "\n",
        "### Chain rule\n",
        "\n",
        "$P(X,A,B) = {P(X|A,B).P(A,B)}$\n",
        "\n",
        "$P(X,A,B) = {P(X|A,B).P(A|B).P(B)}$\n",
        "\n",
        "$P(X_{1},...,X_{N}) =\\prod_{i=1}^{N} {P(X_{i}|X_{1},...,X_{i-1})}$\n",
        "\n",
        "If A and B are independent:\n",
        "\n",
        "$P(A,B) = {P(A).P(B)}$\n",
        "\n",
        "$ P(A|B) = P(A) $\n",
        "\n",
        "Warning, disjoint events are different from independent events, so if A and B are disjoint:\n",
        "$ P(A,B) = 0 $\n",
        "\n",
        "Joint events can be either dependent or independent, verify $P(A,B) = {P(A).P(B)}$ for independence.\n",
        "Disjoint events are **necessarily** dependent, that is, independent events must overlap.\n",
        "\n",
        "### Sum rule\n",
        "\n",
        "$P(X) = \\int_{-\\infty}^{\\infty}{P(X,Y).dY}$\n",
        "\n",
        "### Product rule\n",
        "\n",
        "$P(X|Y) = {P(Y|X).P(X)}$\n",
        "\n",
        "### Bayesian network\n",
        "$P(X_{1},...,X_{N}) =\\prod_{i=1}^{N} {P(X_{i}|Pa(X_{i})}$\n",
        " \n",
        "$Pa(X_{i})$ : parents of $X_{i}$ in network\n"
      ]
    },
    {
      "metadata": {
        "id": "o7KKkkPIzQXh",
        "colab_type": "text"
      },
      "cell_type": "markdown",
      "source": [
        "#Kullback Leibler divergence\n",
        "If f concave, Jensen inequality :\n",
        "$f(esp(p(t)).t) >= esp(p(t)).f(t)$\n",
        "\n",
        "$KL(q||p)=\\int_{}{q(x).log\\frac{q(x)}{p(x)}.dx} >= 0$\n",
        "\n",
        "$KL(q||p)=esp(q).log\\frac{q}{p}$"
      ]
    },
    {
      "metadata": {
        "id": "J_mVdqYAyY4V",
        "colab_type": "text"
      },
      "cell_type": "markdown",
      "source": [
        "# Expectation maximization algorithm\n",
        "Aim : maximize likelihood of dataset, ie:\n",
        "\n",
        "$\\max{\\theta}. P(X|{\\theta})$\n",
        "\n",
        "eq. to if i.i.d. variables:\n",
        "\n",
        "$\\max{\\theta}. log P(X|{\\theta}) = \\sum_{i=1}^{N} {log P(x_{i}|\\theta)}$"
      ]
    },
    {
      "metadata": {
        "id": "MJLl5QgqNXpJ",
        "colab_type": "code",
        "colab": {}
      },
      "cell_type": "code",
      "source": [
        ""
      ],
      "execution_count": 0,
      "outputs": []
    }
  ]
}