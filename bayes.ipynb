{
  "nbformat": 4,
  "nbformat_minor": 0,
  "metadata": {
    "colab": {
      "name": "bayes.ipynb",
      "version": "0.3.2",
      "provenance": [],
      "include_colab_link": true
    },
    "kernelspec": {
      "name": "python3",
      "display_name": "Python 3"
    }
  },
  "cells": [
    {
      "cell_type": "markdown",
      "metadata": {
        "id": "view-in-github",
        "colab_type": "text"
      },
      "source": [
        "<a href=\"https://colab.research.google.com/github/mathengine/statistics/blob/master/bayes.ipynb\" target=\"_parent\"><img src=\"https://colab.research.google.com/assets/colab-badge.svg\" alt=\"Open In Colab\"/></a>"
      ]
    },
    {
      "metadata": {
        "id": "2CAVjB89OTgG",
        "colab_type": "text"
      },
      "cell_type": "markdown",
      "source": [
        "# Bayes formula\n",
        "\n",
        "\n",
        "$$\n",
        "P(X~|~{\\theta}) = \\frac{P({\\theta}~|~X).P(X)}{P({\\theta})}\n",
        "$$\n",
        "\n",
        "$$\n",
        "P(X,A,B) = {P(X~|~A,B).P(A,B)}\n",
        "$$\n"
      ]
    },
    {
      "metadata": {
        "id": "MJLl5QgqNXpJ",
        "colab_type": "code",
        "colab": {}
      },
      "cell_type": "code",
      "source": [
        ""
      ],
      "execution_count": 0,
      "outputs": []
    }
  ]
}